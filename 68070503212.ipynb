{
 "cells": [
  {
   "cell_type": "markdown",
   "id": "c89413f1",
   "metadata": {},
   "source": [
    "# Even and Odd\n",
    "iterate for loop from number 1 to n :\n",
    "if the number is even print \"[number] is even\"\n",
    "otherwise print \"[number] is odd\"\n",
    "\n",
    "if n = 5 ==> expected output\n",
    "0 is even.\n",
    "1 is odd.\n",
    "2 is even.\n",
    "3 is odd.\n",
    "4 is even."
   ]
  },
  {
   "cell_type": "code",
   "execution_count": 4,
   "id": "58f92c8a",
   "metadata": {},
   "outputs": [
    {
     "name": "stdout",
     "output_type": "stream",
     "text": [
      "0 is even.\n",
      "1 is odd.\n",
      "2 is even.\n",
      "3 is odd.\n",
      "4 is even.\n",
      "5 is odd.\n",
      "6 is even.\n",
      "7 is odd.\n",
      "8 is even.\n",
      "9 is odd.\n",
      "10 is even.\n",
      "11 is odd.\n",
      "12 is even.\n",
      "13 is odd.\n",
      "14 is even.\n",
      "15 is odd.\n",
      "16 is even.\n",
      "17 is odd.\n",
      "18 is even.\n",
      "19 is odd.\n",
      "20 is even.\n",
      "21 is odd.\n",
      "22 is even.\n",
      "23 is odd.\n",
      "24 is even.\n",
      "25 is odd.\n",
      "26 is even.\n",
      "27 is odd.\n",
      "28 is even.\n",
      "29 is odd.\n",
      "30 is even.\n",
      "31 is odd.\n",
      "32 is even.\n",
      "33 is odd.\n",
      "34 is even.\n",
      "35 is odd.\n",
      "36 is even.\n",
      "37 is odd.\n",
      "38 is even.\n",
      "39 is odd.\n",
      "40 is even.\n",
      "41 is odd.\n",
      "42 is even.\n",
      "43 is odd.\n",
      "44 is even.\n",
      "45 is odd.\n",
      "46 is even.\n",
      "47 is odd.\n",
      "48 is even.\n",
      "49 is odd.\n",
      "50 is even.\n",
      "51 is odd.\n",
      "52 is even.\n",
      "53 is odd.\n"
     ]
    }
   ],
   "source": [
    "n = 54\n",
    "for i in range(n):\n",
    "    if i % 2 == 0:\n",
    "        print(i,\"is even.\")\n",
    "    else:\n",
    "        print(i,\"is odd.\")\n"
   ]
  },
  {
   "cell_type": "markdown",
   "id": "b590f6ab",
   "metadata": {},
   "source": [
    "Multiplication\n",
    "-define n ( n = 5 )\n",
    "-use a loop from 1 to 10 (the value of i is 1 to 10)\n",
    "-if the result of multiplication (num*i) is greater than 50 => print (\"the result is large)\n",
    "-otherwise print the actual result ==> print (\"Result = \",result)"
   ]
  },
  {
   "cell_type": "code",
   "execution_count": 9,
   "id": "4d77d424",
   "metadata": {},
   "outputs": [
    {
     "name": "stdout",
     "output_type": "stream",
     "text": [
      "Result = 9\n",
      "Result = 18\n",
      "Result = 27\n",
      "Result = 36\n",
      "Result = 45\n",
      "The result is large\n",
      "The result is large\n",
      "The result is large\n",
      "The result is large\n"
     ]
    }
   ],
   "source": [
    "n = 9\n",
    "for i in range(1,10):\n",
    "    result = n * i\n",
    "    if result > 50 :\n",
    "        print(\"The result is large\")\n",
    "    else:\n",
    "        print(\"Result =\",result)"
   ]
  },
  {
   "cell_type": "markdown",
   "id": "3e8b9aea",
   "metadata": {},
   "source": [
    "Skipping the special numbers\n",
    "\n",
    "define n\n",
    "loop numbers from 1 to n\n",
    "if the number is divisible 4 ==> skip it with continue\n",
    "if the number is greater than 20 ==> stop the loop with break\n",
    "otherwise - -> print the number"
   ]
  },
  {
   "cell_type": "code",
   "execution_count": 17,
   "id": "13440f69",
   "metadata": {},
   "outputs": [
    {
     "name": "stdout",
     "output_type": "stream",
     "text": [
      "1\n",
      "2\n",
      "3\n",
      "5\n",
      "6\n",
      "7\n",
      "9\n",
      "10\n",
      "11\n",
      "13\n",
      "14\n",
      "15\n",
      "17\n",
      "18\n",
      "19\n"
     ]
    }
   ],
   "source": [
    "n=22\n",
    "for i in range(1, n):\n",
    "    if i % 4 == 0:\n",
    "        continue\n",
    "    if i > 20:\n",
    "        break\n",
    "    print(i)"
   ]
  },
  {
   "cell_type": "markdown",
   "id": "4584d04e",
   "metadata": {},
   "source": [
    "Guess the number\n",
    "The secret number is 777.\n",
    "-Ask the user to guess untill they get the right.\n",
    "-If the guess is wrong, print \"Try again\"\n",
    "-If the guess is correct, print\"You got it\" and stop the loop."
   ]
  },
  {
   "cell_type": "code",
   "execution_count": 22,
   "id": "91cfe3d2",
   "metadata": {},
   "outputs": [
    {
     "name": "stdout",
     "output_type": "stream",
     "text": [
      "Try again\n",
      "Try again\n",
      "You got it\n"
     ]
    }
   ],
   "source": [
    "secret_number = 777\n",
    "guess = int(input(\"Guess the three digits number from 000 to 999: \"))\n",
    "while guess != secret_number:\n",
    "    print(\"Try again\")\n",
    "    guess = int(input(\"Guess the three digits number from 000 to 999: \"))\n",
    "else :\n",
    "    print(\"You got it\")"
   ]
  },
  {
   "cell_type": "markdown",
   "id": "c45fdb76",
   "metadata": {},
   "source": [
    "Shopping Cart Checkout System\n",
    "\n",
    "Use initial variable total_bill=0\n",
    "Ask user to add price and add the price to total_bill.\n",
    "If total_bill>1000, print(\"limit reached. You cannot buy anymore\" and break the loop)\n",
    "Otherwise, ask user to add price"
   ]
  },
  {
   "cell_type": "code",
   "execution_count": 28,
   "id": "4502dc49",
   "metadata": {},
   "outputs": [
    {
     "name": "stdout",
     "output_type": "stream",
     "text": [
      "Total bill = 999.0\n",
      "Limit reached. You cannot buy anymore.\n"
     ]
    }
   ],
   "source": [
    "total_bill = 0\n",
    "while True:\n",
    "    price = float(input(\"Add price: \"))\n",
    "    total_bill = total_bill + price\n",
    "    if total_bill > 1000:\n",
    "        print(\"Limit reached. You cannot buy anymore.\")\n",
    "        break\n",
    "    else:\n",
    "        print(\"Total bill =\", total_bill)"
   ]
  }
 ],
 "metadata": {
  "kernelspec": {
   "display_name": "Python 3",
   "language": "python",
   "name": "python3"
  },
  "language_info": {
   "codemirror_mode": {
    "name": "ipython",
    "version": 3
   },
   "file_extension": ".py",
   "mimetype": "text/x-python",
   "name": "python",
   "nbconvert_exporter": "python",
   "pygments_lexer": "ipython3",
   "version": "3.12.6"
  }
 },
 "nbformat": 4,
 "nbformat_minor": 5
}
